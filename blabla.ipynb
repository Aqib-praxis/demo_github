{
 "cells": [
  {
   "cell_type": "code",
   "execution_count": 1,
   "id": "95c124c6",
   "metadata": {},
   "outputs": [
    {
     "name": "stdout",
     "output_type": "stream",
     "text": [
      "Collecting typing-extensions==4.5.0\n",
      "  Using cached typing_extensions-4.5.0-py3-none-any.whl (27 kB)\n",
      "Installing collected packages: typing-extensions\n",
      "  Attempting uninstall: typing-extensions\n",
      "    Found existing installation: typing-extensions 4.5.0\n",
      "    Uninstalling typing-extensions-4.5.0:\n",
      "      Successfully uninstalled typing-extensions-4.5.0\n",
      "Successfully installed typing-extensions-4.5.0\n",
      "Note: you may need to restart the kernel to use updated packages.\n"
     ]
    }
   ],
   "source": [
    "pip install --force-reinstall typing-extensions==4.5.0"
   ]
  },
  {
   "cell_type": "code",
   "execution_count": 2,
   "id": "03b3100f",
   "metadata": {},
   "outputs": [],
   "source": [
    "import pandas as pd\n",
    "import numpy as np\n",
    "from nltk.corpus import stopwords\n",
    "from spacy.lang.en import STOP_WORDS\n",
    "from sklearn.feature_extraction.text import CountVectorizer, ENGLISH_STOP_WORDS, TfidfVectorizer\n",
    "from sklearn.ensemble import RandomForestClassifier, GradientBoostingClassifier\n",
    "from sklearn.linear_model import LogisticRegression\n",
    "from sklearn.naive_bayes import MultinomialNB\n",
    "from sklearn.svm import SVC\n",
    "from lightgbm import LGBMClassifier\n",
    "from xgboost import XGBClassifier\n",
    "from collections import Counter\n",
    "from sklearn.metrics import classification_report\n",
    "from sklearn.multioutput import MultiOutputClassifier\n",
    "from sklearn.multiclass import OneVsRestClassifier, OneVsOneClassifier"
   ]
  },
  {
   "cell_type": "code",
   "execution_count": 3,
   "id": "13baae9f",
   "metadata": {},
   "outputs": [],
   "source": [
    "data=pd.read_csv(r\"C:\\Users\\Admin\\Desktop\\news.csv\")"
   ]
  },
  {
   "cell_type": "code",
   "execution_count": 4,
   "id": "f935df1b",
   "metadata": {},
   "outputs": [
    {
     "data": {
      "text/html": [
       "<div>\n",
       "<style scoped>\n",
       "    .dataframe tbody tr th:only-of-type {\n",
       "        vertical-align: middle;\n",
       "    }\n",
       "\n",
       "    .dataframe tbody tr th {\n",
       "        vertical-align: top;\n",
       "    }\n",
       "\n",
       "    .dataframe thead th {\n",
       "        text-align: right;\n",
       "    }\n",
       "</style>\n",
       "<table border=\"1\" class=\"dataframe\">\n",
       "  <thead>\n",
       "    <tr style=\"text-align: right;\">\n",
       "      <th></th>\n",
       "      <th>Unnamed: 0</th>\n",
       "      <th>title</th>\n",
       "      <th>text</th>\n",
       "      <th>label</th>\n",
       "    </tr>\n",
       "  </thead>\n",
       "  <tbody>\n",
       "    <tr>\n",
       "      <th>0</th>\n",
       "      <td>8476</td>\n",
       "      <td>You Can Smell Hillary’s Fear</td>\n",
       "      <td>Daniel Greenfield, a Shillman Journalism Fello...</td>\n",
       "      <td>FAKE</td>\n",
       "    </tr>\n",
       "    <tr>\n",
       "      <th>1</th>\n",
       "      <td>10294</td>\n",
       "      <td>Watch The Exact Moment Paul Ryan Committed Pol...</td>\n",
       "      <td>Google Pinterest Digg Linkedin Reddit Stumbleu...</td>\n",
       "      <td>FAKE</td>\n",
       "    </tr>\n",
       "    <tr>\n",
       "      <th>2</th>\n",
       "      <td>3608</td>\n",
       "      <td>Kerry to go to Paris in gesture of sympathy</td>\n",
       "      <td>U.S. Secretary of State John F. Kerry said Mon...</td>\n",
       "      <td>REAL</td>\n",
       "    </tr>\n",
       "    <tr>\n",
       "      <th>3</th>\n",
       "      <td>10142</td>\n",
       "      <td>Bernie supporters on Twitter erupt in anger ag...</td>\n",
       "      <td>— Kaydee King (@KaydeeKing) November 9, 2016 T...</td>\n",
       "      <td>FAKE</td>\n",
       "    </tr>\n",
       "    <tr>\n",
       "      <th>4</th>\n",
       "      <td>875</td>\n",
       "      <td>The Battle of New York: Why This Primary Matters</td>\n",
       "      <td>It's primary day in New York and front-runners...</td>\n",
       "      <td>REAL</td>\n",
       "    </tr>\n",
       "  </tbody>\n",
       "</table>\n",
       "</div>"
      ],
      "text/plain": [
       "   Unnamed: 0                                              title  \\\n",
       "0        8476                       You Can Smell Hillary’s Fear   \n",
       "1       10294  Watch The Exact Moment Paul Ryan Committed Pol...   \n",
       "2        3608        Kerry to go to Paris in gesture of sympathy   \n",
       "3       10142  Bernie supporters on Twitter erupt in anger ag...   \n",
       "4         875   The Battle of New York: Why This Primary Matters   \n",
       "\n",
       "                                                text label  \n",
       "0  Daniel Greenfield, a Shillman Journalism Fello...  FAKE  \n",
       "1  Google Pinterest Digg Linkedin Reddit Stumbleu...  FAKE  \n",
       "2  U.S. Secretary of State John F. Kerry said Mon...  REAL  \n",
       "3  — Kaydee King (@KaydeeKing) November 9, 2016 T...  FAKE  \n",
       "4  It's primary day in New York and front-runners...  REAL  "
      ]
     },
     "execution_count": 4,
     "metadata": {},
     "output_type": "execute_result"
    }
   ],
   "source": [
    "data.head()"
   ]
  },
  {
   "cell_type": "code",
   "execution_count": 58,
   "id": "4c7da3f8",
   "metadata": {},
   "outputs": [
    {
     "data": {
      "text/plain": [
       "(6335, 4)"
      ]
     },
     "execution_count": 58,
     "metadata": {},
     "output_type": "execute_result"
    }
   ],
   "source": [
    "data.shape"
   ]
  },
  {
   "cell_type": "code",
   "execution_count": 5,
   "id": "1b579ed9",
   "metadata": {},
   "outputs": [],
   "source": [
    "df=data.drop('Unnamed: 0',axis=1)"
   ]
  },
  {
   "cell_type": "code",
   "execution_count": 6,
   "id": "f83df8f7",
   "metadata": {},
   "outputs": [
    {
     "data": {
      "text/plain": [
       "Unnamed: 0    0\n",
       "title         0\n",
       "text          0\n",
       "label         0\n",
       "dtype: int64"
      ]
     },
     "execution_count": 6,
     "metadata": {},
     "output_type": "execute_result"
    }
   ],
   "source": [
    "data.isna().sum() # Checking for nan Values"
   ]
  },
  {
   "cell_type": "code",
   "execution_count": 7,
   "id": "888f7c13",
   "metadata": {},
   "outputs": [
    {
     "data": {
      "image/png": "[encoded data removed]",
      "text/plain": [
       "<Figure size 432x288 with 1 Axes>"
      ]
     },
     "metadata": {
      "needs_background": "light"
     },
     "output_type": "display_data"
    }
   ],
   "source": [
    "import matplotlib.pyplot as plt\n",
    "import seaborn as sns\n",
    "plt.figure(figsize=(6, 4))\n",
    "sns.set_style(\"darkgrid\")\n",
    "sns.countplot(x=data.label, data=data)\n",
    "plt.show()"
   ]
  },
  {
   "cell_type": "code",
   "execution_count": 8,
   "id": "d976ae9d",
   "metadata": {},
   "outputs": [
    {
     "data": {
      "text/html": [
       "<div>\n",
       "<style scoped>\n",
       "    .dataframe tbody tr th:only-of-type {\n",
       "        vertical-align: middle;\n",
       "    }\n",
       "\n",
       "    .dataframe tbody tr th {\n",
       "        vertical-align: top;\n",
       "    }\n",
       "\n",
       "    .dataframe thead th {\n",
       "        text-align: right;\n",
       "    }\n",
       "</style>\n",
       "<table border=\"1\" class=\"dataframe\">\n",
       "  <thead>\n",
       "    <tr style=\"text-align: right;\">\n",
       "      <th></th>\n",
       "      <th>text</th>\n",
       "      <th>label</th>\n",
       "    </tr>\n",
       "  </thead>\n",
       "  <tbody>\n",
       "    <tr>\n",
       "      <th>0</th>\n",
       "      <td>You Can Smell Hillary’s Fear Daniel Greenfield...</td>\n",
       "      <td>FAKE</td>\n",
       "    </tr>\n",
       "    <tr>\n",
       "      <th>1</th>\n",
       "      <td>Watch The Exact Moment Paul Ryan Committed Pol...</td>\n",
       "      <td>FAKE</td>\n",
       "    </tr>\n",
       "    <tr>\n",
       "      <th>2</th>\n",
       "      <td>Kerry to go to Paris in gesture of sympathy U....</td>\n",
       "      <td>REAL</td>\n",
       "    </tr>\n",
       "    <tr>\n",
       "      <th>3</th>\n",
       "      <td>Bernie supporters on Twitter erupt in anger ag...</td>\n",
       "      <td>FAKE</td>\n",
       "    </tr>\n",
       "    <tr>\n",
       "      <th>4</th>\n",
       "      <td>The Battle of New York: Why This Primary Matte...</td>\n",
       "      <td>REAL</td>\n",
       "    </tr>\n",
       "  </tbody>\n",
       "</table>\n",
       "</div>"
      ],
      "text/plain": [
       "                                                text label\n",
       "0  You Can Smell Hillary’s Fear Daniel Greenfield...  FAKE\n",
       "1  Watch The Exact Moment Paul Ryan Committed Pol...  FAKE\n",
       "2  Kerry to go to Paris in gesture of sympathy U....  REAL\n",
       "3  Bernie supporters on Twitter erupt in anger ag...  FAKE\n",
       "4  The Battle of New York: Why This Primary Matte...  REAL"
      ]
     },
     "execution_count": 8,
     "metadata": {},
     "output_type": "execute_result"
    }
   ],
   "source": [
    "df[\"text\"] = df.title + \" \" + df.text\n",
    "df=df.drop(['title'],axis=1)\n",
    "df.head()"
   ]
  },
  {
   "cell_type": "code",
   "execution_count": 9,
   "id": "9498e307",
   "metadata": {},
   "outputs": [],
   "source": [
    "df[\"lower\"] = df[\"text\"].map(lambda x: x.lower())"
   ]
  },
  {
   "cell_type": "code",
   "execution_count": 10,
   "id": "8bc1d09c",
   "metadata": {},
   "outputs": [],
   "source": [
    "import re\n",
    "def url(text):\n",
    "    url_check = \"http[s]?://(?:[a-zA-Z]|[0-9]|[$-_@.&+]|[!*\\(\\),]|(?:%[0-9a-fA-F][0-9a-fA-F]))+\"\n",
    "    clean = re.sub(url_check, \"\", text)\n",
    "    return clean\n",
    "\n",
    "def num_repl(text):\n",
    "    num_check = \"([0-9,]*)\"\n",
    "    clean = re.sub(num_check, \"\", text).strip()\n",
    "    return clean\n",
    "\n",
    "def remove_stop(text):\n",
    "    word_list = text.split()\n",
    "    stopword_dict = Counter(STOP_WORDS)\n",
    "    newlist = [word.strip() for word in word_list if word not in stopword_dict]\n",
    "    sentence = \" \".join(newlist)\n",
    "    \n",
    "    sentence = url(sentence)\n",
    "    sentence = num_repl(sentence)\n",
    "    from string import punctuation\n",
    "    punctuations = '''@#!?+&*[]%.:/-();$=><|{}^'`\\\\'''\n",
    "    punctuations = set(punctuation)\n",
    "    for p in punctuations:\n",
    "        sentence = sentence.replace(p, \" \")\n",
    "    sentence.strip()\n",
    "    \n",
    "    return sentence"
   ]
  },
  {
   "cell_type": "code",
   "execution_count": 11,
   "id": "17646a33",
   "metadata": {},
   "outputs": [],
   "source": [
    "df[\"clean_text\"] = df.text.apply(remove_stop)\n",
    "df[\"clean_text\"] = df.clean_text.apply(lambda x: \" \".join([w for w in x.split() if (len(w)>2)]))\n",
    "df[\"clean_text\"] = df.clean_text.apply(lambda x: \" \".join([w for w in x.split() if (len(set(w))>2)]))"
   ]
  },
  {
   "cell_type": "code",
   "execution_count": 12,
   "id": "11b642c7",
   "metadata": {},
   "outputs": [
    {
     "data": {
      "text/html": [
       "<div>\n",
       "<style scoped>\n",
       "    .dataframe tbody tr th:only-of-type {\n",
       "        vertical-align: middle;\n",
       "    }\n",
       "\n",
       "    .dataframe tbody tr th {\n",
       "        vertical-align: top;\n",
       "    }\n",
       "\n",
       "    .dataframe thead th {\n",
       "        text-align: right;\n",
       "    }\n",
       "</style>\n",
       "<table border=\"1\" class=\"dataframe\">\n",
       "  <thead>\n",
       "    <tr style=\"text-align: right;\">\n",
       "      <th></th>\n",
       "      <th>text</th>\n",
       "      <th>label</th>\n",
       "      <th>lower</th>\n",
       "      <th>clean_text</th>\n",
       "    </tr>\n",
       "  </thead>\n",
       "  <tbody>\n",
       "    <tr>\n",
       "      <th>0</th>\n",
       "      <td>You Can Smell Hillary’s Fear Daniel Greenfield...</td>\n",
       "      <td>FAKE</td>\n",
       "      <td>you can smell hillary’s fear daniel greenfield...</td>\n",
       "      <td>You Can Smell Hillary’s Fear Daniel Greenfield...</td>\n",
       "    </tr>\n",
       "    <tr>\n",
       "      <th>1</th>\n",
       "      <td>Watch The Exact Moment Paul Ryan Committed Pol...</td>\n",
       "      <td>FAKE</td>\n",
       "      <td>watch the exact moment paul ryan committed pol...</td>\n",
       "      <td>Watch The Exact Moment Paul Ryan Committed Pol...</td>\n",
       "    </tr>\n",
       "    <tr>\n",
       "      <th>2</th>\n",
       "      <td>Kerry to go to Paris in gesture of sympathy U....</td>\n",
       "      <td>REAL</td>\n",
       "      <td>kerry to go to paris in gesture of sympathy u....</td>\n",
       "      <td>Kerry Paris gesture sympathy Secretary State J...</td>\n",
       "    </tr>\n",
       "    <tr>\n",
       "      <th>3</th>\n",
       "      <td>Bernie supporters on Twitter erupt in anger ag...</td>\n",
       "      <td>FAKE</td>\n",
       "      <td>bernie supporters on twitter erupt in anger ag...</td>\n",
       "      <td>Bernie supporters Twitter erupt anger DNC trie...</td>\n",
       "    </tr>\n",
       "    <tr>\n",
       "      <th>4</th>\n",
       "      <td>The Battle of New York: Why This Primary Matte...</td>\n",
       "      <td>REAL</td>\n",
       "      <td>the battle of new york: why this primary matte...</td>\n",
       "      <td>The Battle New York Why This Primary Matters p...</td>\n",
       "    </tr>\n",
       "  </tbody>\n",
       "</table>\n",
       "</div>"
      ],
      "text/plain": [
       "                                                text label  \\\n",
       "0  You Can Smell Hillary’s Fear Daniel Greenfield...  FAKE   \n",
       "1  Watch The Exact Moment Paul Ryan Committed Pol...  FAKE   \n",
       "2  Kerry to go to Paris in gesture of sympathy U....  REAL   \n",
       "3  Bernie supporters on Twitter erupt in anger ag...  FAKE   \n",
       "4  The Battle of New York: Why This Primary Matte...  REAL   \n",
       "\n",
       "                                               lower  \\\n",
       "0  you can smell hillary’s fear daniel greenfield...   \n",
       "1  watch the exact moment paul ryan committed pol...   \n",
       "2  kerry to go to paris in gesture of sympathy u....   \n",
       "3  bernie supporters on twitter erupt in anger ag...   \n",
       "4  the battle of new york: why this primary matte...   \n",
       "\n",
       "                                          clean_text  \n",
       "0  You Can Smell Hillary’s Fear Daniel Greenfield...  \n",
       "1  Watch The Exact Moment Paul Ryan Committed Pol...  \n",
       "2  Kerry Paris gesture sympathy Secretary State J...  \n",
       "3  Bernie supporters Twitter erupt anger DNC trie...  \n",
       "4  The Battle New York Why This Primary Matters p...  "
      ]
     },
     "execution_count": 12,
     "metadata": {},
     "output_type": "execute_result"
    }
   ],
   "source": [
    "df.head()"
   ]
  },
  {
   "cell_type": "code",
   "execution_count": 13,
   "id": "65edd758",
   "metadata": {},
   "outputs": [
    {
     "name": "stderr",
     "output_type": "stream",
     "text": [
      "[nltk_data] Downloading package wordnet to\n",
      "[nltk_data]     C:\\Users\\Admin\\AppData\\Roaming\\nltk_data...\n",
      "[nltk_data]   Package wordnet is already up-to-date!\n",
      "[nltk_data] Downloading package omw-1.4 to\n",
      "[nltk_data]     C:\\Users\\Admin\\AppData\\Roaming\\nltk_data...\n",
      "[nltk_data]   Package omw-1.4 is already up-to-date!\n"
     ]
    },
    {
     "data": {
      "text/html": [
       "<div>\n",
       "<style scoped>\n",
       "    .dataframe tbody tr th:only-of-type {\n",
       "        vertical-align: middle;\n",
       "    }\n",
       "\n",
       "    .dataframe tbody tr th {\n",
       "        vertical-align: top;\n",
       "    }\n",
       "\n",
       "    .dataframe thead th {\n",
       "        text-align: right;\n",
       "    }\n",
       "</style>\n",
       "<table border=\"1\" class=\"dataframe\">\n",
       "  <thead>\n",
       "    <tr style=\"text-align: right;\">\n",
       "      <th></th>\n",
       "      <th>text</th>\n",
       "      <th>label</th>\n",
       "      <th>lower</th>\n",
       "      <th>clean_text</th>\n",
       "      <th>stop</th>\n",
       "      <th>punc</th>\n",
       "    </tr>\n",
       "  </thead>\n",
       "  <tbody>\n",
       "    <tr>\n",
       "      <th>0</th>\n",
       "      <td>You Can Smell Hillary’s Fear Daniel Greenfield...</td>\n",
       "      <td>FAKE</td>\n",
       "      <td>you can smell hillary’s fear daniel greenfield...</td>\n",
       "      <td>You Can Smell Hillary’s Fear Daniel Greenfield...</td>\n",
       "      <td>You Can Smell Hillarys Fear Daniel Greenfield ...</td>\n",
       "      <td>You Can Smell Hillarys Fear Daniel Greenfield ...</td>\n",
       "    </tr>\n",
       "    <tr>\n",
       "      <th>1</th>\n",
       "      <td>Watch The Exact Moment Paul Ryan Committed Pol...</td>\n",
       "      <td>FAKE</td>\n",
       "      <td>watch the exact moment paul ryan committed pol...</td>\n",
       "      <td>Watch The Exact Moment Paul Ryan Committed Pol...</td>\n",
       "      <td>Watch The Exact Moment Paul Ryan Committed Pol...</td>\n",
       "      <td>Watch The Exact Moment Paul Ryan Committed Pol...</td>\n",
       "    </tr>\n",
       "    <tr>\n",
       "      <th>2</th>\n",
       "      <td>Kerry to go to Paris in gesture of sympathy U....</td>\n",
       "      <td>REAL</td>\n",
       "      <td>kerry to go to paris in gesture of sympathy u....</td>\n",
       "      <td>Kerry Paris gesture sympathy Secretary State J...</td>\n",
       "      <td>Kerry Paris gesture sympathy Secretary State J...</td>\n",
       "      <td>Kerry Paris gesture sympathy Secretary State J...</td>\n",
       "    </tr>\n",
       "    <tr>\n",
       "      <th>3</th>\n",
       "      <td>Bernie supporters on Twitter erupt in anger ag...</td>\n",
       "      <td>FAKE</td>\n",
       "      <td>bernie supporters on twitter erupt in anger ag...</td>\n",
       "      <td>Bernie supporters Twitter erupt anger DNC trie...</td>\n",
       "      <td>Bernie supporters Twitter erupt anger DNC trie...</td>\n",
       "      <td>Bernie supporters Twitter erupt anger DNC trie...</td>\n",
       "    </tr>\n",
       "    <tr>\n",
       "      <th>4</th>\n",
       "      <td>The Battle of New York: Why This Primary Matte...</td>\n",
       "      <td>REAL</td>\n",
       "      <td>the battle of new york: why this primary matte...</td>\n",
       "      <td>The Battle New York Why This Primary Matters p...</td>\n",
       "      <td>The Battle New York Why This Primary Matters p...</td>\n",
       "      <td>The Battle New York Why This Primary Matters p...</td>\n",
       "    </tr>\n",
       "  </tbody>\n",
       "</table>\n",
       "</div>"
      ],
      "text/plain": [
       "                                                text label  \\\n",
       "0  You Can Smell Hillary’s Fear Daniel Greenfield...  FAKE   \n",
       "1  Watch The Exact Moment Paul Ryan Committed Pol...  FAKE   \n",
       "2  Kerry to go to Paris in gesture of sympathy U....  REAL   \n",
       "3  Bernie supporters on Twitter erupt in anger ag...  FAKE   \n",
       "4  The Battle of New York: Why This Primary Matte...  REAL   \n",
       "\n",
       "                                               lower  \\\n",
       "0  you can smell hillary’s fear daniel greenfield...   \n",
       "1  watch the exact moment paul ryan committed pol...   \n",
       "2  kerry to go to paris in gesture of sympathy u....   \n",
       "3  bernie supporters on twitter erupt in anger ag...   \n",
       "4  the battle of new york: why this primary matte...   \n",
       "\n",
       "                                          clean_text  \\\n",
       "0  You Can Smell Hillary’s Fear Daniel Greenfield...   \n",
       "1  Watch The Exact Moment Paul Ryan Committed Pol...   \n",
       "2  Kerry Paris gesture sympathy Secretary State J...   \n",
       "3  Bernie supporters Twitter erupt anger DNC trie...   \n",
       "4  The Battle New York Why This Primary Matters p...   \n",
       "\n",
       "                                                stop  \\\n",
       "0  You Can Smell Hillarys Fear Daniel Greenfield ...   \n",
       "1  Watch The Exact Moment Paul Ryan Committed Pol...   \n",
       "2  Kerry Paris gesture sympathy Secretary State J...   \n",
       "3  Bernie supporters Twitter erupt anger DNC trie...   \n",
       "4  The Battle New York Why This Primary Matters p...   \n",
       "\n",
       "                                                punc  \n",
       "0  You Can Smell Hillarys Fear Daniel Greenfield ...  \n",
       "1  Watch The Exact Moment Paul Ryan Committed Pol...  \n",
       "2  Kerry Paris gesture sympathy Secretary State J...  \n",
       "3  Bernie supporters Twitter erupt anger DNC trie...  \n",
       "4  The Battle New York Why This Primary Matters p...  "
      ]
     },
     "execution_count": 13,
     "metadata": {},
     "output_type": "execute_result"
    }
   ],
   "source": [
    "import nltk\n",
    "import string\n",
    "import re\n",
    "nltk.download('wordnet')\n",
    "nltk.download('omw-1.4')\n",
    "from nltk.tokenize import word_tokenize\n",
    "from nltk.corpus import stopwords,wordnet\n",
    "from nltk.stem import PorterStemmer\n",
    "from nltk.stem import WordNetLemmatizer\n",
    "stop_words = set(stopwords.words('english'))\n",
    "df['stop'] = df['clean_text'].apply(lambda x: re.sub(r'[^\\w\\s]', '', x))\n",
    "df['punc'] = df['stop'].apply(lambda x: ' '.join([word for word in word_tokenize(x) if word not in stop_words]))\n",
    "df.head()"
   ]
  },
  {
   "cell_type": "code",
   "execution_count": 14,
   "id": "c4ef2379",
   "metadata": {},
   "outputs": [
    {
     "name": "stderr",
     "output_type": "stream",
     "text": [
      "[nltk_data] Downloading package punkt to\n",
      "[nltk_data]     C:\\Users\\Admin\\AppData\\Roaming\\nltk_data...\n",
      "[nltk_data]   Package punkt is already up-to-date!\n"
     ]
    },
    {
     "data": {
      "text/html": [
       "<div>\n",
       "<style scoped>\n",
       "    .dataframe tbody tr th:only-of-type {\n",
       "        vertical-align: middle;\n",
       "    }\n",
       "\n",
       "    .dataframe tbody tr th {\n",
       "        vertical-align: top;\n",
       "    }\n",
       "\n",
       "    .dataframe thead th {\n",
       "        text-align: right;\n",
       "    }\n",
       "</style>\n",
       "<table border=\"1\" class=\"dataframe\">\n",
       "  <thead>\n",
       "    <tr style=\"text-align: right;\">\n",
       "      <th></th>\n",
       "      <th>text</th>\n",
       "      <th>label</th>\n",
       "      <th>lower</th>\n",
       "      <th>clean_text</th>\n",
       "      <th>stop</th>\n",
       "      <th>punc</th>\n",
       "      <th>tokenized</th>\n",
       "    </tr>\n",
       "  </thead>\n",
       "  <tbody>\n",
       "    <tr>\n",
       "      <th>0</th>\n",
       "      <td>You Can Smell Hillary’s Fear Daniel Greenfield...</td>\n",
       "      <td>FAKE</td>\n",
       "      <td>you can smell hillary’s fear daniel greenfield...</td>\n",
       "      <td>You Can Smell Hillary’s Fear Daniel Greenfield...</td>\n",
       "      <td>You Can Smell Hillarys Fear Daniel Greenfield ...</td>\n",
       "      <td>You Can Smell Hillarys Fear Daniel Greenfield ...</td>\n",
       "      <td>[You, Can, Smell, Hillarys, Fear, Daniel, Gree...</td>\n",
       "    </tr>\n",
       "    <tr>\n",
       "      <th>1</th>\n",
       "      <td>Watch The Exact Moment Paul Ryan Committed Pol...</td>\n",
       "      <td>FAKE</td>\n",
       "      <td>watch the exact moment paul ryan committed pol...</td>\n",
       "      <td>Watch The Exact Moment Paul Ryan Committed Pol...</td>\n",
       "      <td>Watch The Exact Moment Paul Ryan Committed Pol...</td>\n",
       "      <td>Watch The Exact Moment Paul Ryan Committed Pol...</td>\n",
       "      <td>[Watch, The, Exact, Moment, Paul, Ryan, Commit...</td>\n",
       "    </tr>\n",
       "    <tr>\n",
       "      <th>2</th>\n",
       "      <td>Kerry to go to Paris in gesture of sympathy U....</td>\n",
       "      <td>REAL</td>\n",
       "      <td>kerry to go to paris in gesture of sympathy u....</td>\n",
       "      <td>Kerry Paris gesture sympathy Secretary State J...</td>\n",
       "      <td>Kerry Paris gesture sympathy Secretary State J...</td>\n",
       "      <td>Kerry Paris gesture sympathy Secretary State J...</td>\n",
       "      <td>[Kerry, Paris, gesture, sympathy, Secretary, S...</td>\n",
       "    </tr>\n",
       "    <tr>\n",
       "      <th>3</th>\n",
       "      <td>Bernie supporters on Twitter erupt in anger ag...</td>\n",
       "      <td>FAKE</td>\n",
       "      <td>bernie supporters on twitter erupt in anger ag...</td>\n",
       "      <td>Bernie supporters Twitter erupt anger DNC trie...</td>\n",
       "      <td>Bernie supporters Twitter erupt anger DNC trie...</td>\n",
       "      <td>Bernie supporters Twitter erupt anger DNC trie...</td>\n",
       "      <td>[Bernie, supporters, Twitter, erupt, anger, DN...</td>\n",
       "    </tr>\n",
       "    <tr>\n",
       "      <th>4</th>\n",
       "      <td>The Battle of New York: Why This Primary Matte...</td>\n",
       "      <td>REAL</td>\n",
       "      <td>the battle of new york: why this primary matte...</td>\n",
       "      <td>The Battle New York Why This Primary Matters p...</td>\n",
       "      <td>The Battle New York Why This Primary Matters p...</td>\n",
       "      <td>The Battle New York Why This Primary Matters p...</td>\n",
       "      <td>[The, Battle, New, York, Why, This, Primary, M...</td>\n",
       "    </tr>\n",
       "  </tbody>\n",
       "</table>\n",
       "</div>"
      ],
      "text/plain": [
       "                                                text label  \\\n",
       "0  You Can Smell Hillary’s Fear Daniel Greenfield...  FAKE   \n",
       "1  Watch The Exact Moment Paul Ryan Committed Pol...  FAKE   \n",
       "2  Kerry to go to Paris in gesture of sympathy U....  REAL   \n",
       "3  Bernie supporters on Twitter erupt in anger ag...  FAKE   \n",
       "4  The Battle of New York: Why This Primary Matte...  REAL   \n",
       "\n",
       "                                               lower  \\\n",
       "0  you can smell hillary’s fear daniel greenfield...   \n",
       "1  watch the exact moment paul ryan committed pol...   \n",
       "2  kerry to go to paris in gesture of sympathy u....   \n",
       "3  bernie supporters on twitter erupt in anger ag...   \n",
       "4  the battle of new york: why this primary matte...   \n",
       "\n",
       "                                          clean_text  \\\n",
       "0  You Can Smell Hillary’s Fear Daniel Greenfield...   \n",
       "1  Watch The Exact Moment Paul Ryan Committed Pol...   \n",
       "2  Kerry Paris gesture sympathy Secretary State J...   \n",
       "3  Bernie supporters Twitter erupt anger DNC trie...   \n",
       "4  The Battle New York Why This Primary Matters p...   \n",
       "\n",
       "                                                stop  \\\n",
       "0  You Can Smell Hillarys Fear Daniel Greenfield ...   \n",
       "1  Watch The Exact Moment Paul Ryan Committed Pol...   \n",
       "2  Kerry Paris gesture sympathy Secretary State J...   \n",
       "3  Bernie supporters Twitter erupt anger DNC trie...   \n",
       "4  The Battle New York Why This Primary Matters p...   \n",
       "\n",
       "                                                punc  \\\n",
       "0  You Can Smell Hillarys Fear Daniel Greenfield ...   \n",
       "1  Watch The Exact Moment Paul Ryan Committed Pol...   \n",
       "2  Kerry Paris gesture sympathy Secretary State J...   \n",
       "3  Bernie supporters Twitter erupt anger DNC trie...   \n",
       "4  The Battle New York Why This Primary Matters p...   \n",
       "\n",
       "                                           tokenized  \n",
       "0  [You, Can, Smell, Hillarys, Fear, Daniel, Gree...  \n",
       "1  [Watch, The, Exact, Moment, Paul, Ryan, Commit...  \n",
       "2  [Kerry, Paris, gesture, sympathy, Secretary, S...  \n",
       "3  [Bernie, supporters, Twitter, erupt, anger, DN...  \n",
       "4  [The, Battle, New, York, Why, This, Primary, M...  "
      ]
     },
     "execution_count": 14,
     "metadata": {},
     "output_type": "execute_result"
    }
   ],
   "source": [
    "nltk.download('punkt')\n",
    "df['tokenized'] = df['punc'].apply(word_tokenize)\n",
    "df.head()"
   ]
  },
  {
   "cell_type": "code",
   "execution_count": 15,
   "id": "10bddad2",
   "metadata": {
    "scrolled": false
   },
   "outputs": [
    {
     "name": "stderr",
     "output_type": "stream",
     "text": [
      "[nltk_data] Downloading package wordnet to\n",
      "[nltk_data]     C:\\Users\\Admin\\AppData\\Roaming\\nltk_data...\n",
      "[nltk_data]   Package wordnet is already up-to-date!\n",
      "[nltk_data] Downloading package wordnet to\n",
      "[nltk_data]     C:\\Users\\Admin\\AppData\\Roaming\\nltk_data...\n",
      "[nltk_data]   Package wordnet is already up-to-date!\n"
     ]
    },
    {
     "data": {
      "text/html": [
       "<div>\n",
       "<style scoped>\n",
       "    .dataframe tbody tr th:only-of-type {\n",
       "        vertical-align: middle;\n",
       "    }\n",
       "\n",
       "    .dataframe tbody tr th {\n",
       "        vertical-align: top;\n",
       "    }\n",
       "\n",
       "    .dataframe thead th {\n",
       "        text-align: right;\n",
       "    }\n",
       "</style>\n",
       "<table border=\"1\" class=\"dataframe\">\n",
       "  <thead>\n",
       "    <tr style=\"text-align: right;\">\n",
       "      <th></th>\n",
       "      <th>text</th>\n",
       "      <th>label</th>\n",
       "      <th>lower</th>\n",
       "      <th>clean_text</th>\n",
       "      <th>stop</th>\n",
       "      <th>punc</th>\n",
       "      <th>tokenized</th>\n",
       "      <th>lemmatized</th>\n",
       "    </tr>\n",
       "  </thead>\n",
       "  <tbody>\n",
       "    <tr>\n",
       "      <th>3900</th>\n",
       "      <td>What advantages does Scott Walker offer? Every...</td>\n",
       "      <td>REAL</td>\n",
       "      <td>what advantages does scott walker offer? every...</td>\n",
       "      <td>What advantages Scott Walker offer Every GOP p...</td>\n",
       "      <td>What advantages Scott Walker offer Every GOP p...</td>\n",
       "      <td>What advantages Scott Walker offer Every GOP p...</td>\n",
       "      <td>[What, advantages, Scott, Walker, offer, Every...</td>\n",
       "      <td>[What, advantage, Scott, Walker, offer, Every,...</td>\n",
       "    </tr>\n",
       "    <tr>\n",
       "      <th>3550</th>\n",
       "      <td>Hillary Clinton's Second Amendment Accepting t...</td>\n",
       "      <td>REAL</td>\n",
       "      <td>hillary clinton's second amendment accepting t...</td>\n",
       "      <td>Hillary Clinton Second Amendment Accepting Nat...</td>\n",
       "      <td>Hillary Clinton Second Amendment Accepting Nat...</td>\n",
       "      <td>Hillary Clinton Second Amendment Accepting Nat...</td>\n",
       "      <td>[Hillary, Clinton, Second, Amendment, Acceptin...</td>\n",
       "      <td>[Hillary, Clinton, Second, Amendment, Acceptin...</td>\n",
       "    </tr>\n",
       "    <tr>\n",
       "      <th>4687</th>\n",
       "      <td>Lady Gaga Protests Donald Trump Outside of Tru...</td>\n",
       "      <td>FAKE</td>\n",
       "      <td>lady gaga protests donald trump outside of tru...</td>\n",
       "      <td>Lady Gaga Protests Donald Trump Outside Trump ...</td>\n",
       "      <td>Lady Gaga Protests Donald Trump Outside Trump ...</td>\n",
       "      <td>Lady Gaga Protests Donald Trump Outside Trump ...</td>\n",
       "      <td>[Lady, Gaga, Protests, Donald, Trump, Outside,...</td>\n",
       "      <td>[Lady, Gaga, Protests, Donald, Trump, Outside,...</td>\n",
       "    </tr>\n",
       "    <tr>\n",
       "      <th>1667</th>\n",
       "      <td>Cable news is in trouble, and it’s more about ...</td>\n",
       "      <td>REAL</td>\n",
       "      <td>cable news is in trouble, and it’s more about ...</td>\n",
       "      <td>Cable news trouble it’s news cable Cable news ...</td>\n",
       "      <td>Cable news trouble its news cable Cable news t...</td>\n",
       "      <td>Cable news trouble news cable Cable news troub...</td>\n",
       "      <td>[Cable, news, trouble, news, cable, Cable, new...</td>\n",
       "      <td>[Cable, news, trouble, news, cable, Cable, new...</td>\n",
       "    </tr>\n",
       "    <tr>\n",
       "      <th>5406</th>\n",
       "      <td>A Republican Representative Just Called For Hi...</td>\n",
       "      <td>FAKE</td>\n",
       "      <td>a republican representative just called for hi...</td>\n",
       "      <td>Republican Representative Just Called For Hill...</td>\n",
       "      <td>Republican Representative Just Called For Hill...</td>\n",
       "      <td>Republican Representative Just Called For Hill...</td>\n",
       "      <td>[Republican, Representative, Just, Called, For...</td>\n",
       "      <td>[Republican, Representative, Just, Called, For...</td>\n",
       "    </tr>\n",
       "    <tr>\n",
       "      <th>202</th>\n",
       "      <td>Trump slams 'corrupt' media, as more women mak...</td>\n",
       "      <td>REAL</td>\n",
       "      <td>trump slams 'corrupt' media, as more women mak...</td>\n",
       "      <td>Trump slams corrupt media women sexual assault...</td>\n",
       "      <td>Trump slams corrupt media women sexual assault...</td>\n",
       "      <td>Trump slams corrupt media women sexual assault...</td>\n",
       "      <td>[Trump, slams, corrupt, media, women, sexual, ...</td>\n",
       "      <td>[Trump, slam, corrupt, medium, woman, sexual, ...</td>\n",
       "    </tr>\n",
       "    <tr>\n",
       "      <th>5623</th>\n",
       "      <td>US Military Notifies Russia Of “Sustained Aler...</td>\n",
       "      <td>FAKE</td>\n",
       "      <td>us military notifies russia of “sustained aler...</td>\n",
       "      <td>Military Notifies Russia “Sustained Alert Stat...</td>\n",
       "      <td>Military Notifies Russia Sustained Alert Statu...</td>\n",
       "      <td>Military Notifies Russia Sustained Alert Statu...</td>\n",
       "      <td>[Military, Notifies, Russia, Sustained, Alert,...</td>\n",
       "      <td>[Military, Notifies, Russia, Sustained, Alert,...</td>\n",
       "    </tr>\n",
       "  </tbody>\n",
       "</table>\n",
       "</div>"
      ],
      "text/plain": [
       "                                                   text label  \\\n",
       "3900  What advantages does Scott Walker offer? Every...  REAL   \n",
       "3550  Hillary Clinton's Second Amendment Accepting t...  REAL   \n",
       "4687  Lady Gaga Protests Donald Trump Outside of Tru...  FAKE   \n",
       "1667  Cable news is in trouble, and it’s more about ...  REAL   \n",
       "5406  A Republican Representative Just Called For Hi...  FAKE   \n",
       "202   Trump slams 'corrupt' media, as more women mak...  REAL   \n",
       "5623  US Military Notifies Russia Of “Sustained Aler...  FAKE   \n",
       "\n",
       "                                                  lower  \\\n",
       "3900  what advantages does scott walker offer? every...   \n",
       "3550  hillary clinton's second amendment accepting t...   \n",
       "4687  lady gaga protests donald trump outside of tru...   \n",
       "1667  cable news is in trouble, and it’s more about ...   \n",
       "5406  a republican representative just called for hi...   \n",
       "202   trump slams 'corrupt' media, as more women mak...   \n",
       "5623  us military notifies russia of “sustained aler...   \n",
       "\n",
       "                                             clean_text  \\\n",
       "3900  What advantages Scott Walker offer Every GOP p...   \n",
       "3550  Hillary Clinton Second Amendment Accepting Nat...   \n",
       "4687  Lady Gaga Protests Donald Trump Outside Trump ...   \n",
       "1667  Cable news trouble it’s news cable Cable news ...   \n",
       "5406  Republican Representative Just Called For Hill...   \n",
       "202   Trump slams corrupt media women sexual assault...   \n",
       "5623  Military Notifies Russia “Sustained Alert Stat...   \n",
       "\n",
       "                                                   stop  \\\n",
       "3900  What advantages Scott Walker offer Every GOP p...   \n",
       "3550  Hillary Clinton Second Amendment Accepting Nat...   \n",
       "4687  Lady Gaga Protests Donald Trump Outside Trump ...   \n",
       "1667  Cable news trouble its news cable Cable news t...   \n",
       "5406  Republican Representative Just Called For Hill...   \n",
       "202   Trump slams corrupt media women sexual assault...   \n",
       "5623  Military Notifies Russia Sustained Alert Statu...   \n",
       "\n",
       "                                                   punc  \\\n",
       "3900  What advantages Scott Walker offer Every GOP p...   \n",
       "3550  Hillary Clinton Second Amendment Accepting Nat...   \n",
       "4687  Lady Gaga Protests Donald Trump Outside Trump ...   \n",
       "1667  Cable news trouble news cable Cable news troub...   \n",
       "5406  Republican Representative Just Called For Hill...   \n",
       "202   Trump slams corrupt media women sexual assault...   \n",
       "5623  Military Notifies Russia Sustained Alert Statu...   \n",
       "\n",
       "                                              tokenized  \\\n",
       "3900  [What, advantages, Scott, Walker, offer, Every...   \n",
       "3550  [Hillary, Clinton, Second, Amendment, Acceptin...   \n",
       "4687  [Lady, Gaga, Protests, Donald, Trump, Outside,...   \n",
       "1667  [Cable, news, trouble, news, cable, Cable, new...   \n",
       "5406  [Republican, Representative, Just, Called, For...   \n",
       "202   [Trump, slams, corrupt, media, women, sexual, ...   \n",
       "5623  [Military, Notifies, Russia, Sustained, Alert,...   \n",
       "\n",
       "                                             lemmatized  \n",
       "3900  [What, advantage, Scott, Walker, offer, Every,...  \n",
       "3550  [Hillary, Clinton, Second, Amendment, Acceptin...  \n",
       "4687  [Lady, Gaga, Protests, Donald, Trump, Outside,...  \n",
       "1667  [Cable, news, trouble, news, cable, Cable, new...  \n",
       "5406  [Republican, Representative, Just, Called, For...  \n",
       "202   [Trump, slam, corrupt, medium, woman, sexual, ...  \n",
       "5623  [Military, Notifies, Russia, Sustained, Alert,...  "
      ]
     },
     "execution_count": 15,
     "metadata": {},
     "output_type": "execute_result"
    }
   ],
   "source": [
    "nltk.download('wordnet')\n",
    "import nltk\n",
    "nltk.download('wordnet')\n",
    "from nltk.stem import WordNetLemmatizer\n",
    "# df['lemmatized'] =df['tokenized'].apply(lambda x: ' '.join([lemmatizer.lemmatize(word) for word in word_tokenize(x)])) \n",
    "# Create WordNetLemmatizer object\n",
    "wnl = WordNetLemmatizer()\n",
    "w_tokenizer = nltk.tokenize.WhitespaceTokenizer()\n",
    "lemmatizer = nltk.stem.WordNetLemmatizer()\n",
    "def lemmatize_text(text):\n",
    "    return [lemmatizer.lemmatize(w) for w in w_tokenizer.tokenize(text)]\n",
    "df['lemmatized']= df.punc.apply(lemmatize_text)\n",
    "df.sample(n=7)"
   ]
  },
  {
   "cell_type": "code",
   "execution_count": 16,
   "id": "7c98821a",
   "metadata": {},
   "outputs": [],
   "source": [
    "df[\"lemmatized\"] = df.lemmatized.apply(lambda x: \" \".join([w for w in x]))"
   ]
  },
  {
   "cell_type": "code",
   "execution_count": 17,
   "id": "ffa40451",
   "metadata": {},
   "outputs": [],
   "source": [
    "#train-test split\n",
    "from sklearn.model_selection import train_test_split\n",
    "\n",
    "X=df['lemmatized']\n",
    "y=df['label'].map({'FAKE':0,'REAL':1})\n",
    "X_train, X_test, y_train, y_test = train_test_split(X, y, test_size=0.3, random_state=1)"
   ]
  },
  {
   "cell_type": "markdown",
   "id": "0bda1f0b",
   "metadata": {},
   "source": [
    "##### COUNT VECTORIZER METHOD"
   ]
  },
  {
   "cell_type": "code",
   "execution_count": 18,
   "id": "f3e6665d",
   "metadata": {},
   "outputs": [
    {
     "data": {
      "text/html": [
       "<style>#sk-container-id-1 {color: black;}#sk-container-id-1 pre{padding: 0;}#sk-container-id-1 div.sk-toggleable {background-color: white;}#sk-container-id-1 label.sk-toggleable__label {cursor: pointer;display: block;width: 100%;margin-bottom: 0;padding: 0.3em;box-sizing: border-box;text-align: center;}#sk-container-id-1 label.sk-toggleable__label-arrow:before {content: \"▸\";float: left;margin-right: 0.25em;color: #696969;}#sk-container-id-1 label.sk-toggleable__label-arrow:hover:before {color: black;}#sk-container-id-1 div.sk-estimator:hover label.sk-toggleable__label-arrow:before {color: black;}#sk-container-id-1 div.sk-toggleable__content {max-height: 0;max-width: 0;overflow: hidden;text-align: left;background-color: #f0f8ff;}#sk-container-id-1 div.sk-toggleable__content pre {margin: 0.2em;color: black;border-radius: 0.25em;background-color: #f0f8ff;}#sk-container-id-1 input.sk-toggleable__control:checked~div.sk-toggleable__content {max-height: 200px;max-width: 100%;overflow: auto;}#sk-container-id-1 input.sk-toggleable__control:checked~label.sk-toggleable__label-arrow:before {content: \"▾\";}#sk-container-id-1 div.sk-estimator input.sk-toggleable__control:checked~label.sk-toggleable__label {background-color: #d4ebff;}#sk-container-id-1 div.sk-label input.sk-toggleable__control:checked~label.sk-toggleable__label {background-color: #d4ebff;}#sk-container-id-1 input.sk-hidden--visually {border: 0;clip: rect(1px 1px 1px 1px);clip: rect(1px, 1px, 1px, 1px);height: 1px;margin: -1px;overflow: hidden;padding: 0;position: absolute;width: 1px;}#sk-container-id-1 div.sk-estimator {font-family: monospace;background-color: #f0f8ff;border: 1px dotted black;border-radius: 0.25em;box-sizing: border-box;margin-bottom: 0.5em;}#sk-container-id-1 div.sk-estimator:hover {background-color: #d4ebff;}#sk-container-id-1 div.sk-parallel-item::after {content: \"\";width: 100%;border-bottom: 1px solid gray;flex-grow: 1;}#sk-container-id-1 div.sk-label:hover label.sk-toggleable__label {background-color: #d4ebff;}#sk-container-id-1 div.sk-serial::before {content: \"\";position: absolute;border-left: 1px solid gray;box-sizing: border-box;top: 0;bottom: 0;left: 50%;z-index: 0;}#sk-container-id-1 div.sk-serial {display: flex;flex-direction: column;align-items: center;background-color: white;padding-right: 0.2em;padding-left: 0.2em;position: relative;}#sk-container-id-1 div.sk-item {position: relative;z-index: 1;}#sk-container-id-1 div.sk-parallel {display: flex;align-items: stretch;justify-content: center;background-color: white;position: relative;}#sk-container-id-1 div.sk-item::before, #sk-container-id-1 div.sk-parallel-item::before {content: \"\";position: absolute;border-left: 1px solid gray;box-sizing: border-box;top: 0;bottom: 0;left: 50%;z-index: -1;}#sk-container-id-1 div.sk-parallel-item {display: flex;flex-direction: column;z-index: 1;position: relative;background-color: white;}#sk-container-id-1 div.sk-parallel-item:first-child::after {align-self: flex-end;width: 50%;}#sk-container-id-1 div.sk-parallel-item:last-child::after {align-self: flex-start;width: 50%;}#sk-container-id-1 div.sk-parallel-item:only-child::after {width: 0;}#sk-container-id-1 div.sk-dashed-wrapped {border: 1px dashed gray;margin: 0 0.4em 0.5em 0.4em;box-sizing: border-box;padding-bottom: 0.4em;background-color: white;}#sk-container-id-1 div.sk-label label {font-family: monospace;font-weight: bold;display: inline-block;line-height: 1.2em;}#sk-container-id-1 div.sk-label-container {text-align: center;}#sk-container-id-1 div.sk-container {/* jupyter's `normalize.less` sets `[hidden] { display: none; }` but bootstrap.min.css set `[hidden] { display: none !important; }` so we also need the `!important` here to be able to override the default hidden behavior on the sphinx rendered scikit-learn.org. See: https://github.com/scikit-learn/scikit-learn/issues/21755 */display: inline-block !important;position: relative;}#sk-container-id-1 div.sk-text-repr-fallback {display: none;}</style><div id=\"sk-container-id-1\" class=\"sk-top-container\"><div class=\"sk-text-repr-fallback\"><pre>CountVectorizer(stop_words=&#x27;english&#x27;)</pre><b>In a Jupyter environment, please rerun this cell to show the HTML representation or trust the notebook. <br />On GitHub, the HTML representation is unable to render, please try loading this page with nbviewer.org.</b></div><div class=\"sk-container\" hidden><div class=\"sk-item\"><div class=\"sk-estimator sk-toggleable\"><input class=\"sk-toggleable__control sk-hidden--visually\" id=\"sk-estimator-id-1\" type=\"checkbox\" checked><label for=\"sk-estimator-id-1\" class=\"sk-toggleable__label sk-toggleable__label-arrow\">CountVectorizer</label><div class=\"sk-toggleable__content\"><pre>CountVectorizer(stop_words=&#x27;english&#x27;)</pre></div></div></div></div></div>"
      ],
      "text/plain": [
       "CountVectorizer(stop_words='english')"
      ]
     },
     "execution_count": 18,
     "metadata": {},
     "output_type": "execute_result"
    }
   ],
   "source": [
    "# from sklearn.feature_extraction.text import CountVectorizer\n",
    "cv = CountVectorizer(stop_words='english')\n",
    "cv.fit(X_train)"
   ]
  },
  {
   "cell_type": "code",
   "execution_count": 19,
   "id": "f778e0f0",
   "metadata": {},
   "outputs": [],
   "source": [
    "X_traint = cv.transform(X_train)\n",
    "X_testt = cv.transform(X_test)"
   ]
  },
  {
   "cell_type": "code",
   "execution_count": 20,
   "id": "9ca73be1",
   "metadata": {},
   "outputs": [
    {
     "name": "stdout",
     "output_type": "stream",
     "text": [
      "(4434, 55598) (1901, 55598)\n"
     ]
    }
   ],
   "source": [
    "print(X_traint.shape, X_testt.shape)"
   ]
  },
  {
   "cell_type": "code",
   "execution_count": 38,
   "id": "7beb7f27",
   "metadata": {},
   "outputs": [],
   "source": [
    "model_xgb = XGBClassifier()#, n_estimators=100, max_depth=6, reg_alpha=0.1)"
   ]
  },
  {
   "cell_type": "code",
   "execution_count": 39,
   "id": "1d34178e",
   "metadata": {},
   "outputs": [
    {
     "data": {
      "text/html": [
       "<style>#sk-container-id-2 {color: black;}#sk-container-id-2 pre{padding: 0;}#sk-container-id-2 div.sk-toggleable {background-color: white;}#sk-container-id-2 label.sk-toggleable__label {cursor: pointer;display: block;width: 100%;margin-bottom: 0;padding: 0.3em;box-sizing: border-box;text-align: center;}#sk-container-id-2 label.sk-toggleable__label-arrow:before {content: \"▸\";float: left;margin-right: 0.25em;color: #696969;}#sk-container-id-2 label.sk-toggleable__label-arrow:hover:before {color: black;}#sk-container-id-2 div.sk-estimator:hover label.sk-toggleable__label-arrow:before {color: black;}#sk-container-id-2 div.sk-toggleable__content {max-height: 0;max-width: 0;overflow: hidden;text-align: left;background-color: #f0f8ff;}#sk-container-id-2 div.sk-toggleable__content pre {margin: 0.2em;color: black;border-radius: 0.25em;background-color: #f0f8ff;}#sk-container-id-2 input.sk-toggleable__control:checked~div.sk-toggleable__content {max-height: 200px;max-width: 100%;overflow: auto;}#sk-container-id-2 input.sk-toggleable__control:checked~label.sk-toggleable__label-arrow:before {content: \"▾\";}#sk-container-id-2 div.sk-estimator input.sk-toggleable__control:checked~label.sk-toggleable__label {background-color: #d4ebff;}#sk-container-id-2 div.sk-label input.sk-toggleable__control:checked~label.sk-toggleable__label {background-color: #d4ebff;}#sk-container-id-2 input.sk-hidden--visually {border: 0;clip: rect(1px 1px 1px 1px);clip: rect(1px, 1px, 1px, 1px);height: 1px;margin: -1px;overflow: hidden;padding: 0;position: absolute;width: 1px;}#sk-container-id-2 div.sk-estimator {font-family: monospace;background-color: #f0f8ff;border: 1px dotted black;border-radius: 0.25em;box-sizing: border-box;margin-bottom: 0.5em;}#sk-container-id-2 div.sk-estimator:hover {background-color: #d4ebff;}#sk-container-id-2 div.sk-parallel-item::after {content: \"\";width: 100%;border-bottom: 1px solid gray;flex-grow: 1;}#sk-container-id-2 div.sk-label:hover label.sk-toggleable__label {background-color: #d4ebff;}#sk-container-id-2 div.sk-serial::before {content: \"\";position: absolute;border-left: 1px solid gray;box-sizing: border-box;top: 0;bottom: 0;left: 50%;z-index: 0;}#sk-container-id-2 div.sk-serial {display: flex;flex-direction: column;align-items: center;background-color: white;padding-right: 0.2em;padding-left: 0.2em;position: relative;}#sk-container-id-2 div.sk-item {position: relative;z-index: 1;}#sk-container-id-2 div.sk-parallel {display: flex;align-items: stretch;justify-content: center;background-color: white;position: relative;}#sk-container-id-2 div.sk-item::before, #sk-container-id-2 div.sk-parallel-item::before {content: \"\";position: absolute;border-left: 1px solid gray;box-sizing: border-box;top: 0;bottom: 0;left: 50%;z-index: -1;}#sk-container-id-2 div.sk-parallel-item {display: flex;flex-direction: column;z-index: 1;position: relative;background-color: white;}#sk-container-id-2 div.sk-parallel-item:first-child::after {align-self: flex-end;width: 50%;}#sk-container-id-2 div.sk-parallel-item:last-child::after {align-self: flex-start;width: 50%;}#sk-container-id-2 div.sk-parallel-item:only-child::after {width: 0;}#sk-container-id-2 div.sk-dashed-wrapped {border: 1px dashed gray;margin: 0 0.4em 0.5em 0.4em;box-sizing: border-box;padding-bottom: 0.4em;background-color: white;}#sk-container-id-2 div.sk-label label {font-family: monospace;font-weight: bold;display: inline-block;line-height: 1.2em;}#sk-container-id-2 div.sk-label-container {text-align: center;}#sk-container-id-2 div.sk-container {/* jupyter's `normalize.less` sets `[hidden] { display: none; }` but bootstrap.min.css set `[hidden] { display: none !important; }` so we also need the `!important` here to be able to override the default hidden behavior on the sphinx rendered scikit-learn.org. See: https://github.com/scikit-learn/scikit-learn/issues/21755 */display: inline-block !important;position: relative;}#sk-container-id-2 div.sk-text-repr-fallback {display: none;}</style><div id=\"sk-container-id-2\" class=\"sk-top-container\"><div class=\"sk-text-repr-fallback\"><pre>XGBClassifier(base_score=None, booster=None, callbacks=None,\n",
       "              colsample_bylevel=None, colsample_bynode=None,\n",
       "              colsample_bytree=None, early_stopping_rounds=None,\n",
       "              enable_categorical=False, eval_metric=None, feature_types=None,\n",
       "              gamma=None, gpu_id=None, grow_policy=None, importance_type=None,\n",
       "              interaction_constraints=None, learning_rate=None, max_bin=None,\n",
       "              max_cat_threshold=None, max_cat_to_onehot=None,\n",
       "              max_delta_step=None, max_depth=None, max_leaves=None,\n",
       "              min_child_weight=None, missing=nan, monotone_constraints=None,\n",
       "              n_estimators=100, n_jobs=None, num_parallel_tree=None,\n",
       "              predictor=None, random_state=None, ...)</pre><b>In a Jupyter environment, please rerun this cell to show the HTML representation or trust the notebook. <br />On GitHub, the HTML representation is unable to render, please try loading this page with nbviewer.org.</b></div><div class=\"sk-container\" hidden><div class=\"sk-item\"><div class=\"sk-estimator sk-toggleable\"><input class=\"sk-toggleable__control sk-hidden--visually\" id=\"sk-estimator-id-2\" type=\"checkbox\" checked><label for=\"sk-estimator-id-2\" class=\"sk-toggleable__label sk-toggleable__label-arrow\">XGBClassifier</label><div class=\"sk-toggleable__content\"><pre>XGBClassifier(base_score=None, booster=None, callbacks=None,\n",
       "              colsample_bylevel=None, colsample_bynode=None,\n",
       "              colsample_bytree=None, early_stopping_rounds=None,\n",
       "              enable_categorical=False, eval_metric=None, feature_types=None,\n",
       "              gamma=None, gpu_id=None, grow_policy=None, importance_type=None,\n",
       "              interaction_constraints=None, learning_rate=None, max_bin=None,\n",
       "              max_cat_threshold=None, max_cat_to_onehot=None,\n",
       "              max_delta_step=None, max_depth=None, max_leaves=None,\n",
       "              min_child_weight=None, missing=nan, monotone_constraints=None,\n",
       "              n_estimators=100, n_jobs=None, num_parallel_tree=None,\n",
       "              predictor=None, random_state=None, ...)</pre></div></div></div></div></div>"
      ],
      "text/plain": [
       "XGBClassifier(base_score=None, booster=None, callbacks=None,\n",
       "              colsample_bylevel=None, colsample_bynode=None,\n",
       "              colsample_bytree=None, early_stopping_rounds=None,\n",
       "              enable_categorical=False, eval_metric=None, feature_types=None,\n",
       "              gamma=None, gpu_id=None, grow_policy=None, importance_type=None,\n",
       "              interaction_constraints=None, learning_rate=None, max_bin=None,\n",
       "              max_cat_threshold=None, max_cat_to_onehot=None,\n",
       "              max_delta_step=None, max_depth=None, max_leaves=None,\n",
       "              min_child_weight=None, missing=nan, monotone_constraints=None,\n",
       "              n_estimators=100, n_jobs=None, num_parallel_tree=None,\n",
       "              predictor=None, random_state=None, ...)"
      ]
     },
     "execution_count": 39,
     "metadata": {},
     "output_type": "execute_result"
    }
   ],
   "source": [
    "model_xgb.fit(X_traint, y_train)"
   ]
  },
  {
   "cell_type": "code",
   "execution_count": 41,
   "id": "7ffe6d50",
   "metadata": {},
   "outputs": [],
   "source": [
    "train_pred=model_xgb.predict(X_traint)"
   ]
  },
  {
   "cell_type": "code",
   "execution_count": 42,
   "id": "e0f98328",
   "metadata": {},
   "outputs": [
    {
     "data": {
      "text/plain": [
       "0.4939106901217862"
      ]
     },
     "execution_count": 42,
     "metadata": {},
     "output_type": "execute_result"
    }
   ],
   "source": [
    "model_xgb.score(y_train,train_pred)"
   ]
  },
  {
   "cell_type": "code",
   "execution_count": 52,
   "id": "e244dca6",
   "metadata": {},
   "outputs": [
    {
     "data": {
      "text/html": [
       "<style>#sk-container-id-4 {color: black;}#sk-container-id-4 pre{padding: 0;}#sk-container-id-4 div.sk-toggleable {background-color: white;}#sk-container-id-4 label.sk-toggleable__label {cursor: pointer;display: block;width: 100%;margin-bottom: 0;padding: 0.3em;box-sizing: border-box;text-align: center;}#sk-container-id-4 label.sk-toggleable__label-arrow:before {content: \"▸\";float: left;margin-right: 0.25em;color: #696969;}#sk-container-id-4 label.sk-toggleable__label-arrow:hover:before {color: black;}#sk-container-id-4 div.sk-estimator:hover label.sk-toggleable__label-arrow:before {color: black;}#sk-container-id-4 div.sk-toggleable__content {max-height: 0;max-width: 0;overflow: hidden;text-align: left;background-color: #f0f8ff;}#sk-container-id-4 div.sk-toggleable__content pre {margin: 0.2em;color: black;border-radius: 0.25em;background-color: #f0f8ff;}#sk-container-id-4 input.sk-toggleable__control:checked~div.sk-toggleable__content {max-height: 200px;max-width: 100%;overflow: auto;}#sk-container-id-4 input.sk-toggleable__control:checked~label.sk-toggleable__label-arrow:before {content: \"▾\";}#sk-container-id-4 div.sk-estimator input.sk-toggleable__control:checked~label.sk-toggleable__label {background-color: #d4ebff;}#sk-container-id-4 div.sk-label input.sk-toggleable__control:checked~label.sk-toggleable__label {background-color: #d4ebff;}#sk-container-id-4 input.sk-hidden--visually {border: 0;clip: rect(1px 1px 1px 1px);clip: rect(1px, 1px, 1px, 1px);height: 1px;margin: -1px;overflow: hidden;padding: 0;position: absolute;width: 1px;}#sk-container-id-4 div.sk-estimator {font-family: monospace;background-color: #f0f8ff;border: 1px dotted black;border-radius: 0.25em;box-sizing: border-box;margin-bottom: 0.5em;}#sk-container-id-4 div.sk-estimator:hover {background-color: #d4ebff;}#sk-container-id-4 div.sk-parallel-item::after {content: \"\";width: 100%;border-bottom: 1px solid gray;flex-grow: 1;}#sk-container-id-4 div.sk-label:hover label.sk-toggleable__label {background-color: #d4ebff;}#sk-container-id-4 div.sk-serial::before {content: \"\";position: absolute;border-left: 1px solid gray;box-sizing: border-box;top: 0;bottom: 0;left: 50%;z-index: 0;}#sk-container-id-4 div.sk-serial {display: flex;flex-direction: column;align-items: center;background-color: white;padding-right: 0.2em;padding-left: 0.2em;position: relative;}#sk-container-id-4 div.sk-item {position: relative;z-index: 1;}#sk-container-id-4 div.sk-parallel {display: flex;align-items: stretch;justify-content: center;background-color: white;position: relative;}#sk-container-id-4 div.sk-item::before, #sk-container-id-4 div.sk-parallel-item::before {content: \"\";position: absolute;border-left: 1px solid gray;box-sizing: border-box;top: 0;bottom: 0;left: 50%;z-index: -1;}#sk-container-id-4 div.sk-parallel-item {display: flex;flex-direction: column;z-index: 1;position: relative;background-color: white;}#sk-container-id-4 div.sk-parallel-item:first-child::after {align-self: flex-end;width: 50%;}#sk-container-id-4 div.sk-parallel-item:last-child::after {align-self: flex-start;width: 50%;}#sk-container-id-4 div.sk-parallel-item:only-child::after {width: 0;}#sk-container-id-4 div.sk-dashed-wrapped {border: 1px dashed gray;margin: 0 0.4em 0.5em 0.4em;box-sizing: border-box;padding-bottom: 0.4em;background-color: white;}#sk-container-id-4 div.sk-label label {font-family: monospace;font-weight: bold;display: inline-block;line-height: 1.2em;}#sk-container-id-4 div.sk-label-container {text-align: center;}#sk-container-id-4 div.sk-container {/* jupyter's `normalize.less` sets `[hidden] { display: none; }` but bootstrap.min.css set `[hidden] { display: none !important; }` so we also need the `!important` here to be able to override the default hidden behavior on the sphinx rendered scikit-learn.org. See: https://github.com/scikit-learn/scikit-learn/issues/21755 */display: inline-block !important;position: relative;}#sk-container-id-4 div.sk-text-repr-fallback {display: none;}</style><div id=\"sk-container-id-4\" class=\"sk-top-container\"><div class=\"sk-text-repr-fallback\"><pre>RandomForestClassifier(max_depth=6)</pre><b>In a Jupyter environment, please rerun this cell to show the HTML representation or trust the notebook. <br />On GitHub, the HTML representation is unable to render, please try loading this page with nbviewer.org.</b></div><div class=\"sk-container\" hidden><div class=\"sk-item\"><div class=\"sk-estimator sk-toggleable\"><input class=\"sk-toggleable__control sk-hidden--visually\" id=\"sk-estimator-id-4\" type=\"checkbox\" checked><label for=\"sk-estimator-id-4\" class=\"sk-toggleable__label sk-toggleable__label-arrow\">RandomForestClassifier</label><div class=\"sk-toggleable__content\"><pre>RandomForestClassifier(max_depth=6)</pre></div></div></div></div></div>"
      ],
      "text/plain": [
       "RandomForestClassifier(max_depth=6)"
      ]
     },
     "execution_count": 52,
     "metadata": {},
     "output_type": "execute_result"
    }
   ],
   "source": [
    "rf=RandomForestClassifier(max_depth=6)\n",
    "rf.fit(X_traint, y_train)"
   ]
  },
  {
   "cell_type": "code",
   "execution_count": 53,
   "id": "1bb1b604",
   "metadata": {},
   "outputs": [],
   "source": [
    "train_pred1=rf.predict(X_traint)"
   ]
  },
  {
   "cell_type": "code",
   "execution_count": 54,
   "id": "4dbcac01",
   "metadata": {},
   "outputs": [
    {
     "name": "stdout",
     "output_type": "stream",
     "text": [
      "0.8561118628777628\n",
      "0.8646024229177758\n",
      "0.8467083133109082\n"
     ]
    }
   ],
   "source": [
    "from sklearn.metrics import accuracy_score ,roc_auc_score,f1_score\n",
    "print(accuracy_score(train_pred1,y_train))\n",
    "print(roc_auc_score(train_pred1,y_train))\n",
    "print(f1_score(train_pred1,y_train))"
   ]
  },
  {
   "cell_type": "code",
   "execution_count": 55,
   "id": "71ba5298",
   "metadata": {},
   "outputs": [],
   "source": [
    "test_pred1=rf.predict(X_testt)"
   ]
  },
  {
   "cell_type": "code",
   "execution_count": 57,
   "id": "39bf30ee",
   "metadata": {},
   "outputs": [
    {
     "name": "stdout",
     "output_type": "stream",
     "text": [
      "0.8243029984218833\n",
      "0.8259164940952595\n",
      "0.8106575963718822\n"
     ]
    }
   ],
   "source": [
    "print(accuracy_score(test_pred1,y_test))\n",
    "print(roc_auc_score(test_pred1,y_test))\n",
    "print(f1_score(test_pred1,y_test))"
   ]
  },
  {
   "cell_type": "code",
   "execution_count": null,
   "id": "295196e4",
   "metadata": {},
   "outputs": [],
   "source": []
  }
 ],
 "metadata": {
  "kernelspec": {
   "display_name": "Python 3 (ipykernel)",
   "language": "python",
   "name": "python3"
  },
  "language_info": {
   "codemirror_mode": {
    "name": "ipython",
    "version": 3
   },
   "file_extension": ".py",
   "mimetype": "text/x-python",
   "name": "python",
   "nbconvert_exporter": "python",
   "pygments_lexer": "ipython3",
   "version": "3.9.7"
  }
 },
 "nbformat": 4,
 "nbformat_minor": 5
}
